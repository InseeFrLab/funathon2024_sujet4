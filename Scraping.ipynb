{
 "cells": [
  {
   "cell_type": "markdown",
   "id": "e4dd2dc2-30c8-421f-acc2-baaafe58a389",
   "metadata": {},
   "source": [
    "# Scraping Trustpilot"
   ]
  },
  {
   "cell_type": "markdown",
   "id": "96f7ddaa-f497-4fc6-8fa2-39e5e9784f9f",
   "metadata": {},
   "source": [
    "## Imports"
   ]
  },
  {
   "cell_type": "markdown",
   "id": "3abf9cf7-a843-48f6-a18e-111fb4854b5e",
   "metadata": {
    "jp-MarkdownHeadingCollapsed": true,
    "tags": []
   },
   "source": [
    "### Packages"
   ]
  },
  {
   "cell_type": "code",
   "execution_count": null,
   "id": "e1d9515f-143b-40b3-946c-55db6cc2c95f",
   "metadata": {},
   "outputs": [],
   "source": [
    "!pip install -q -r requirements.txt"
   ]
  },
  {
   "cell_type": "code",
   "execution_count": null,
   "id": "89638708-593e-42a6-9c19-ba2458b03402",
   "metadata": {
    "tags": []
   },
   "outputs": [],
   "source": [
    "import matplotlib.pyplot as plt\n",
    "import os\n",
    "import pandas as pd\n",
    "import re\n",
    "import requests\n",
    "import time\n",
    "\n",
    "from bs4 import BeautifulSoup\n",
    "from datetime import datetime\n",
    "from functools import partial\n",
    "from nltk.corpus import stopwords\n",
    "from nltk.tokenize import word_tokenize\n",
    "from tqdm import tqdm\n",
    "from wordcloud import WordCloud\n"
   ]
  },
  {
   "cell_type": "code",
   "execution_count": null,
   "id": "e72c3fd7-a6e2-4c30-976f-6d1702154e5e",
   "metadata": {
    "tags": []
   },
   "outputs": [],
   "source": [
    "import nltk\n",
    "nltk.download('stopwords')\n",
    "nltk.download('punkt')"
   ]
  },
  {
   "cell_type": "markdown",
   "id": "9b22eda3-8c0f-4c06-b89b-ad9ed8fc3a6b",
   "metadata": {},
   "source": [
    "## Scraping"
   ]
  },
  {
   "cell_type": "markdown",
   "id": "361f4a85-4502-4dab-8cc6-2972a3e3dff2",
   "metadata": {
    "jp-MarkdownHeadingCollapsed": true
   },
   "source": [
    "### Variables globales"
   ]
  },
  {
   "cell_type": "code",
   "execution_count": null,
   "id": "4932fbca-cf1e-4e24-afa6-c42c40afc519",
   "metadata": {
    "tags": []
   },
   "outputs": [],
   "source": [
    "url_trustpilot = 'https://fr.trustpilot.com/review/'"
   ]
  },
  {
   "cell_type": "code",
   "execution_count": null,
   "id": "a7625b4e-3d17-4298-af07-1293dd8658a8",
   "metadata": {
    "tags": []
   },
   "outputs": [],
   "source": [
    "headers = {\n",
    "    'User-Agent': 'Antoine Palazzolo - INSEE - Collect data to organize a code exercise',\n",
    "    'From': 'antoine.palazzolo@insee.fr'\n",
    "}"
   ]
  },
  {
   "cell_type": "code",
   "execution_count": null,
   "id": "19523448-01d3-46d7-ba99-152a7745e87f",
   "metadata": {
    "tags": []
   },
   "outputs": [],
   "source": [
    "target_companies = ['citizenplane.com',\n",
    "                    'aeroports-voyages.fr',\n",
    "                    'www.bourse-des-vols.com',\n",
    "                    'www.fr.lastminute.com',\n",
    "                    'ulysse.com',\n",
    "                    'budgetair.fr',\n",
    "                    'momondo.fr',\n",
    "                    'www.promovols.com',\n",
    "                    'travelgenio.fr',\n",
    "                    'www.airfrance.fr',\n",
    "                    'www.ryanair.com',\n",
    "                    'www.lufthansa.com',\n",
    "                    'www.easyjet.com',\n",
    "                    'www.vueling.com',\n",
    "                    'www.britishairways.com']"
   ]
  },
  {
   "cell_type": "code",
   "execution_count": null,
   "id": "2170d4d6-c4f6-4e35-a4f8-9b61f585c193",
   "metadata": {
    "tags": []
   },
   "outputs": [],
   "source": [
    "do_scraping = True  # True pour refaire tourner le scraping, False pour importer la dernière version depuis s3"
   ]
  },
  {
   "cell_type": "markdown",
   "id": "cd9fb8d1-34e4-4111-919d-defc4b63ea1b",
   "metadata": {},
   "source": [
    "### Fonctions"
   ]
  },
  {
   "cell_type": "markdown",
   "id": "819d8998-159d-41cb-a84b-e0af1db26a5e",
   "metadata": {
    "jp-MarkdownHeadingCollapsed": true,
    "tags": []
   },
   "source": [
    "#### Scraping one review"
   ]
  },
  {
   "cell_type": "code",
   "execution_count": null,
   "id": "747e3a77-31f6-4db7-9fb4-c995266ab8a4",
   "metadata": {
    "tags": []
   },
   "outputs": [],
   "source": [
    "def get_note_review(review):\n",
    "    \n",
    "    try:\n",
    "        texte_note = review.find(\n",
    "            'div', {'class':'star-rating_starRating__4rrcf star-rating_medium__iN6Ty'}\n",
    "        ).find('img', alt=True)['alt']\n",
    "        note = int(texte_note[5])  # texte_note = \"Noté x étoiles sur 5\"\n",
    "        return note\n",
    "\n",
    "    except:\n",
    "        return \"\"  # \"Not found\""
   ]
  },
  {
   "cell_type": "code",
   "execution_count": null,
   "id": "fdbf275b-44d2-4d36-909e-b384376f76b5",
   "metadata": {
    "tags": []
   },
   "outputs": [],
   "source": [
    "def get_time_review(review):\n",
    "    \n",
    "    try:\n",
    "        str_date = review.find(\n",
    "            'div', {'class':'typography_body-m__xgxZ_ typography_appearance-subtle__8_H2l styles_datesWrapper__RCEKH'}\n",
    "        ).find('time')['datetime']\n",
    "        date = datetime.strptime(str_date, \"%Y-%m-%dT%H:%M:%S.%fZ\")  # str_date = 'YYYY-MM-DDThh:mm:ss.000Z'\n",
    "        return date\n",
    "\n",
    "    except:\n",
    "        return \"\"  # \"Not found\""
   ]
  },
  {
   "cell_type": "code",
   "execution_count": null,
   "id": "002580e5-b236-43d9-9b2c-971f6475fa44",
   "metadata": {
    "tags": []
   },
   "outputs": [],
   "source": [
    "def get_title_review(review):\n",
    "    \n",
    "    try:\n",
    "        title = review.find(\n",
    "            'h2', {'class':'typography_heading-s__f7029 typography_appearance-default__AAY17'}\n",
    "        ).text\n",
    "        return title\n",
    "\n",
    "    except:\n",
    "        return \"\"  # \"Not found\""
   ]
  },
  {
   "cell_type": "code",
   "execution_count": null,
   "id": "21a1e46b-023a-43b2-923f-26448d3c66c7",
   "metadata": {},
   "outputs": [],
   "source": [
    "def get_comment_review(review):\n",
    "    \n",
    "    try:\n",
    "        text = review.find(\n",
    "            'p', {'class':'typography_body-l__KUYFJ typography_appearance-default__AAY17 typography_color-black__5LYEn'}\n",
    "        ).text # Les balises <br> sont supprimées, on va donc forcer des espaces après les points\n",
    "        text = re.sub(' +', ' ', text.replace('.', '. '))\n",
    "        return text\n",
    "\n",
    "    except:\n",
    "        return \"\"  # \"Not found\""
   ]
  },
  {
   "cell_type": "markdown",
   "id": "8984efa9-f9c3-46c1-9593-bdde71cf03b3",
   "metadata": {
    "jp-MarkdownHeadingCollapsed": true,
    "tags": []
   },
   "source": [
    "#### Scraping one company"
   ]
  },
  {
   "cell_type": "code",
   "execution_count": null,
   "id": "0757dd31-e3d1-432a-98d9-5d23cd5f856e",
   "metadata": {},
   "outputs": [],
   "source": [
    "def get_nb_pages_reviews(url_company):\n",
    "\n",
    "    time.sleep(5)\n",
    "    request_text = requests.get(url_company, headers=headers).text\n",
    "    soup = BeautifulSoup(request_text, 'html.parser')\n",
    "\n",
    "    try:\n",
    "        boutons_pages = soup.find(\n",
    "            'div', {'class':'styles_pagination__6VmQv'}\n",
    "        ).find_all(\n",
    "            'span', {'class':'typography_heading-xxs__QKBS8 typography_appearance-inherit__D7XqR typography_disableResponsiveSizing__OuNP7'}\n",
    "        )\n",
    "        last_page = int(boutons_pages[-2].text)  # Dernier bouton = \"Page Suivante\"\n",
    "        return last_page\n",
    "\n",
    "    except:\n",
    "        return 0"
   ]
  },
  {
   "cell_type": "code",
   "execution_count": null,
   "id": "76102dea-175b-4651-878c-a6c7a461ef2e",
   "metadata": {},
   "outputs": [],
   "source": [
    "def scraping_one_company(company, limit_pages=False):\n",
    "\n",
    "    print(company)\n",
    "    url_company = url_trustpilot+company\n",
    "    nb_pages = get_nb_pages_reviews(url_company)\n",
    "    if limit_pages and nb_pages > 2:\n",
    "        nb_pages = 2\n",
    "    notes, times, titles, comments = [], [], [], []\n",
    "\n",
    "    for page in tqdm(range(1, nb_pages+1)):\n",
    "\n",
    "        time.sleep(5)\n",
    "        url_page = url_company + '?page=' + str(page)\n",
    "        \n",
    "        try:\n",
    "            request_text = requests.get(url_page, headers=headers).text\n",
    "            soup = BeautifulSoup(request_text, 'html.parser')\n",
    "            reviews = soup.find_all(\n",
    "                'div', {'class':'styles_cardWrapper__LcCPA styles_show__HUXRb styles_reviewCard__9HxJJ'}\n",
    "            )\n",
    "        except:\n",
    "            reviews = []\n",
    "\n",
    "        notes.extend(list(map(get_note_review, reviews)))\n",
    "        times.extend(list(map(get_time_review, reviews)))\n",
    "        titles.extend(list(map(get_title_review, reviews)))\n",
    "        comments.extend(list(map(get_comment_review, reviews)))\n",
    "\n",
    "    df_reviews = pd.DataFrame({\n",
    "        'note': notes,\n",
    "        'date': times,\n",
    "        'title': titles,\n",
    "        'comment': comments\n",
    "    })\n",
    "\n",
    "    return df_reviews\n"
   ]
  },
  {
   "cell_type": "markdown",
   "id": "f8738c88-68cf-41c5-b189-2273d3a8f5bc",
   "metadata": {
    "jp-MarkdownHeadingCollapsed": true,
    "tags": []
   },
   "source": [
    "#### Scraping all companies"
   ]
  },
  {
   "cell_type": "code",
   "execution_count": null,
   "id": "30457379-06a7-4743-9c43-ccee784275a6",
   "metadata": {
    "tags": []
   },
   "outputs": [],
   "source": [
    "def scraping_all_companies(companies_list=target_companies,\n",
    "                           limit_pages=False):\n",
    "\n",
    "    reviews_companies = list(map(\n",
    "        partial(scraping_one_company, limit_pages=limit_pages),\n",
    "                companies_list\n",
    "    ))\n",
    "    n = len(companies_list)\n",
    "    for i in range(n):\n",
    "        reviews_companies[i]['company'] = companies_list[i]\n",
    "    df_all_reviews = pd.concat(reviews_companies)\n",
    "    \n",
    "    return df_all_reviews"
   ]
  },
  {
   "cell_type": "markdown",
   "id": "a336eb30-4ac1-4f9b-9993-9c9fa2a66bc3",
   "metadata": {},
   "source": [
    "### Mise en pratique"
   ]
  },
  {
   "cell_type": "code",
   "execution_count": null,
   "id": "d3dc9ea1-6192-4169-9456-9314fd863360",
   "metadata": {},
   "outputs": [],
   "source": [
    "if do_scraping:\n",
    "    df_all_reviews = scraping_all_companies(\n",
    "        limit_pages=False  # limit_pages=False\n",
    "    )\n",
    "else:\n",
    "    os.system(f\"mc cp s3/projet-funathon/2024/sujet4/diffusion/reviews_planes.parquet reviews_planes.parquet\")\n",
    "    df_all_reviews = pd.read_parquet(\"reviews_planes.parquet\")"
   ]
  },
  {
   "cell_type": "code",
   "execution_count": null,
   "id": "695e583e-4df0-4fee-9f01-0665c4f618dc",
   "metadata": {
    "tags": []
   },
   "outputs": [],
   "source": [
    "print(f'{len(df_all_reviews)} avis réunis')\n",
    "\n",
    "df_all_reviews.sample(5)"
   ]
  },
  {
   "cell_type": "code",
   "execution_count": null,
   "id": "8e871b12-dca1-418e-bf1c-28a105e8f00f",
   "metadata": {
    "tags": []
   },
   "outputs": [],
   "source": [
    "df_problemes = df_all_reviews[df_all_reviews.apply(lambda row: row.str.contains('Not found').any(), axis=1)]\n",
    "df_problemes"
   ]
  },
  {
   "cell_type": "code",
   "execution_count": null,
   "id": "a4b65a9b-eacc-4d58-9fae-0e4fb03aabba",
   "metadata": {},
   "outputs": [],
   "source": [
    "df_all_reviews = df_all_reviews[df_all_reviews[\"comment\"] != \"Not found\"]"
   ]
  },
  {
   "cell_type": "code",
   "execution_count": null,
   "id": "41109dda-b0d4-4803-b58e-e48b2422c72d",
   "metadata": {
    "tags": []
   },
   "outputs": [],
   "source": [
    "df_all_reviews.to_parquet(\"reviews_planes.parquet\", index=False)"
   ]
  },
  {
   "cell_type": "code",
   "execution_count": null,
   "id": "7cd8b4d4-f9d8-4467-8dc6-bf9641db9ba8",
   "metadata": {
    "tags": []
   },
   "outputs": [],
   "source": [
    "os.system(f\"mc cp reviews_planes.parquet s3/projet-funathon/2024/sujet4/diffusion/reviews_planes.parquet\")"
   ]
  },
  {
   "cell_type": "markdown",
   "id": "d124c576-3cc0-41b8-9785-d93579881afc",
   "metadata": {},
   "source": [
    "## Utilisation des avis"
   ]
  },
  {
   "cell_type": "markdown",
   "id": "4fe9e390-1846-4cba-aff4-5cf267df155e",
   "metadata": {
    "tags": []
   },
   "source": [
    "### Regarder les notes"
   ]
  },
  {
   "cell_type": "code",
   "execution_count": null,
   "id": "05194c1c-e061-476d-8b97-3e539eeeb5a3",
   "metadata": {
    "tags": []
   },
   "outputs": [],
   "source": [
    "plt.hist(df_all_reviews['note'], bins=5)"
   ]
  },
  {
   "cell_type": "code",
   "execution_count": null,
   "id": "57b8717d-17d0-481e-b0ac-b082264fd909",
   "metadata": {
    "tags": []
   },
   "outputs": [],
   "source": [
    "df_all_reviews_by_company = df_all_reviews.groupby('company')['note'].apply(list)\n",
    "\n",
    "# Créer une grille de sous-graphiques\n",
    "n_companies = len(df_all_reviews_by_company)\n",
    "fig, axes = plt.subplots(nrows=1, ncols=n_companies, figsize=(12, 5))\n",
    "\n",
    "# Parcourir les données et créer un histogramme pour chaque entreprise sur un sous-graphique distinct\n",
    "for i, (company, notes) in enumerate(df_all_reviews_by_company.items()):\n",
    "    ax = axes[i]  # Sélectionner le sous-graphique correspondant\n",
    "    ax.hist(notes, bins=5)  # Créer l'histogramme\n",
    "    ax.set_xlabel('Notes')  # Définir l'étiquette de l'axe x pour le sous-graphique\n",
    "    ax.set_ylabel('Fréquence')  # Définir l'étiquette de l'axe y pour le sous-graphique\n",
    "    ax.set_title(company)  # Définir le titre du sous-graphique\n",
    "\n",
    "# Ajuster les espacements entre les sous-graphiques\n",
    "plt.tight_layout()\n",
    "\n",
    "# Afficher le graphique\n",
    "plt.show()"
   ]
  },
  {
   "cell_type": "markdown",
   "id": "61b40413-63e6-438d-ad94-df5aaca4a8c6",
   "metadata": {},
   "source": [
    "### Regarder les commentaires"
   ]
  },
  {
   "cell_type": "markdown",
   "id": "e3e995d1-5c60-40c2-b2ea-89aa7652974d",
   "metadata": {
    "tags": []
   },
   "source": [
    "#### Longueurs des commentaires"
   ]
  },
  {
   "cell_type": "code",
   "execution_count": null,
   "id": "102042f9-507b-470e-ab7b-13440b3a8959",
   "metadata": {
    "tags": []
   },
   "outputs": [],
   "source": [
    "df_all_reviews['len_title'] = df_all_reviews['title'].str.len()\n",
    "df_all_reviews['len_comment'] = df_all_reviews['comment'].str.len()"
   ]
  },
  {
   "cell_type": "code",
   "execution_count": null,
   "id": "6d0d4ed0-37a8-4bb7-b971-845df0c872d5",
   "metadata": {
    "tags": []
   },
   "outputs": [],
   "source": [
    "plt.hist(df_all_reviews['len_title'], bins=20)"
   ]
  },
  {
   "cell_type": "code",
   "execution_count": null,
   "id": "3e71b014-41e9-4410-bd1e-b2a617fae5cf",
   "metadata": {
    "tags": []
   },
   "outputs": [],
   "source": [
    "plt.hist(df_all_reviews['len_comment'], bins=20)"
   ]
  },
  {
   "cell_type": "code",
   "execution_count": null,
   "id": "34660ea8-1888-4236-81ed-d9dc441f8900",
   "metadata": {
    "tags": []
   },
   "outputs": [],
   "source": [
    "plt.hist(df_all_reviews['len_comment'], bins=30, range=(0,1500))"
   ]
  },
  {
   "cell_type": "markdown",
   "id": "66e2ad5f-f086-488a-95d3-6abfbef9f00f",
   "metadata": {},
   "source": [
    "#### Nuage de mots"
   ]
  },
  {
   "cell_type": "code",
   "execution_count": null,
   "id": "32f5d46b-d6fe-4fd4-8fb5-ec6bae94ea93",
   "metadata": {
    "tags": []
   },
   "outputs": [],
   "source": [
    "stopwords_fr = set(stopwords.words('french'))\n",
    "\n",
    "# Ajouter les mots \"not\" et \"found\" à la liste des stopwords\n",
    "# stopwords_fr.update([\"not\", \"found\"])\n",
    "\n",
    "# Ajouter manuellement les observations inintéressantes\n",
    "stopwords_fr.update([\"c'est\", \"j'ai\", \"donc\", \"tout\", \"très\"])"
   ]
  },
  {
   "cell_type": "code",
   "execution_count": null,
   "id": "0dd177c9-b63d-43bb-8070-b0bafafe3dbb",
   "metadata": {
    "tags": []
   },
   "outputs": [],
   "source": [
    "# Concaténer tous les commentaires en une seule chaîne de caractères\n",
    "all_comments = ' '.join(df_all_reviews['comment'])\n",
    "\n",
    "# Tokenization des commentaires en mots individuels\n",
    "tokens = word_tokenize(all_comments)\n",
    "\n",
    "# Filtrer les mots avec les stopwords en français\n",
    "filtered_tokens = [word.lower() for word in tokens if word.lower() not in stopwords_fr]"
   ]
  },
  {
   "cell_type": "code",
   "execution_count": null,
   "id": "dda10519-494d-4679-9dc0-017826def879",
   "metadata": {
    "tags": []
   },
   "outputs": [],
   "source": [
    "# Créer un nuage de mots avec les mots filtrés\n",
    "wordcloud = WordCloud(width=800, height=400, background_color='white').generate(' '.join(filtered_tokens))"
   ]
  },
  {
   "cell_type": "code",
   "execution_count": null,
   "id": "62faf375-9fed-4ee1-bec3-948c43697e0c",
   "metadata": {
    "tags": []
   },
   "outputs": [],
   "source": [
    "# Afficher le nuage de mots\n",
    "plt.figure(figsize=(10, 5))\n",
    "plt.imshow(wordcloud, interpolation='bilinear')\n",
    "plt.axis('off')\n",
    "plt.show()"
   ]
  },
  {
   "cell_type": "code",
   "execution_count": null,
   "id": "d0e974be-08a9-4862-aa3f-6f66ca5798df",
   "metadata": {
    "tags": []
   },
   "outputs": [],
   "source": [
    "# Créer un nuage de mots pour chaque valeur de 'company'\n",
    "for company in target_companies:\n",
    "    # Filtrer les commentaires pour la valeur de 'company' spécifique\n",
    "    comments = df_all_reviews[df_all_reviews['company'] == company]['comment']\n",
    "    \n",
    "    # Concaténer tous les commentaires en une seule chaîne de caractères\n",
    "    all_comments = ' '.join(comments)\n",
    "\n",
    "    # Tokenization des commentaires en mots individuels\n",
    "    tokens = word_tokenize(all_comments)\n",
    "\n",
    "    # Filtrer les mots avec les stopwords en français\n",
    "    filtered_tokens = [word.lower() for word in tokens if word.lower() not in stopwords_fr]\n",
    "\n",
    "    # Créer un nuage de mots avec les mots filtrés\n",
    "    wordcloud = WordCloud(width=800, height=400, background_color='white').generate(' '.join(filtered_tokens))\n",
    "\n",
    "    # Afficher le nuage de mots avec le nom de la société\n",
    "    plt.figure(figsize=(6, 3))\n",
    "    plt.imshow(wordcloud, interpolation='bilinear')\n",
    "    plt.title(company)\n",
    "    plt.axis('off')\n",
    "    plt.show()"
   ]
  },
  {
   "cell_type": "code",
   "execution_count": null,
   "id": "a26d5daa-a9ad-409b-bda1-a2ade2af0284",
   "metadata": {},
   "outputs": [],
   "source": []
  }
 ],
 "metadata": {
  "kernelspec": {
   "display_name": "Python 3 (ipykernel)",
   "language": "python",
   "name": "python3"
  },
  "language_info": {
   "codemirror_mode": {
    "name": "ipython",
    "version": 3
   },
   "file_extension": ".py",
   "mimetype": "text/x-python",
   "name": "python",
   "nbconvert_exporter": "python",
   "pygments_lexer": "ipython3",
   "version": "3.11.6"
  }
 },
 "nbformat": 4,
 "nbformat_minor": 5
}
